{
 "cells": [
  {
   "cell_type": "markdown",
   "id": "6936769b",
   "metadata": {},
   "source": [
    "# First Analysis"
   ]
  },
  {
   "cell_type": "code",
   "execution_count": 2,
   "id": "f5b1ae82",
   "metadata": {},
   "outputs": [],
   "source": [
    "import pandas as pd"
   ]
  },
  {
   "cell_type": "code",
   "execution_count": 3,
   "id": "d865e0f5",
   "metadata": {},
   "outputs": [
    {
     "data": {
      "text/html": [
       "<div>\n",
       "<style scoped>\n",
       "    .dataframe tbody tr th:only-of-type {\n",
       "        vertical-align: middle;\n",
       "    }\n",
       "\n",
       "    .dataframe tbody tr th {\n",
       "        vertical-align: top;\n",
       "    }\n",
       "\n",
       "    .dataframe thead th {\n",
       "        text-align: right;\n",
       "    }\n",
       "</style>\n",
       "<table border=\"1\" class=\"dataframe\">\n",
       "  <thead>\n",
       "    <tr style=\"text-align: right;\">\n",
       "      <th></th>\n",
       "      <th>score</th>\n",
       "      <th>id</th>\n",
       "      <th>url</th>\n",
       "      <th>comms_num</th>\n",
       "      <th>created</th>\n",
       "      <th>body</th>\n",
       "      <th>timestamp</th>\n",
       "    </tr>\n",
       "    <tr>\n",
       "      <th>title</th>\n",
       "      <th></th>\n",
       "      <th></th>\n",
       "      <th></th>\n",
       "      <th></th>\n",
       "      <th></th>\n",
       "      <th></th>\n",
       "      <th></th>\n",
       "    </tr>\n",
       "  </thead>\n",
       "  <tbody>\n",
       "    <tr>\n",
       "      <th>Health Canada approves AstraZeneca COVID-19 vaccine</th>\n",
       "      <td>7</td>\n",
       "      <td>lt74vw</td>\n",
       "      <td>https://www.canadaforums.ca/2021/02/health-can...</td>\n",
       "      <td>0</td>\n",
       "      <td>1.614400e+09</td>\n",
       "      <td>NaN</td>\n",
       "      <td>2021-02-27 06:33:45</td>\n",
       "    </tr>\n",
       "    <tr>\n",
       "      <th>COVID-19 in Canada: 'Vaccination passports' a near certainty says bio-ethicist</th>\n",
       "      <td>2</td>\n",
       "      <td>lsh0ij</td>\n",
       "      <td>https://www.canadaforums.ca/2021/02/covid-19-i...</td>\n",
       "      <td>1</td>\n",
       "      <td>1.614316e+09</td>\n",
       "      <td>NaN</td>\n",
       "      <td>2021-02-26 07:11:07</td>\n",
       "    </tr>\n",
       "    <tr>\n",
       "      <th>Coronavirus variants could fuel Canada's third wave</th>\n",
       "      <td>6</td>\n",
       "      <td>lohlle</td>\n",
       "      <td>https://www.canadaforums.ca/2021/02/coronaviru...</td>\n",
       "      <td>0</td>\n",
       "      <td>1.613887e+09</td>\n",
       "      <td>NaN</td>\n",
       "      <td>2021-02-21 07:50:08</td>\n",
       "    </tr>\n",
       "    <tr>\n",
       "      <th>Canadian government to extend COVID-19 emergency benefits</th>\n",
       "      <td>1</td>\n",
       "      <td>lnptv8</td>\n",
       "      <td>https://www.canadaforums.ca/2021/02/canadian-g...</td>\n",
       "      <td>0</td>\n",
       "      <td>1.613796e+09</td>\n",
       "      <td>NaN</td>\n",
       "      <td>2021-02-20 06:35:13</td>\n",
       "    </tr>\n",
       "    <tr>\n",
       "      <th>Canada: Pfizer is 'extremely committed' to meeting vaccine delivery targets</th>\n",
       "      <td>6</td>\n",
       "      <td>lkslm6</td>\n",
       "      <td>https://www.canadaforums.ca/2021/02/canada-pfi...</td>\n",
       "      <td>0</td>\n",
       "      <td>1.613468e+09</td>\n",
       "      <td>NaN</td>\n",
       "      <td>2021-02-16 11:36:28</td>\n",
       "    </tr>\n",
       "  </tbody>\n",
       "</table>\n",
       "</div>"
      ],
      "text/plain": [
       "                                                    score      id  \\\n",
       "title                                                               \n",
       "Health Canada approves AstraZeneca COVID-19 vac...      7  lt74vw   \n",
       "COVID-19 in Canada: 'Vaccination passports' a n...      2  lsh0ij   \n",
       "Coronavirus variants could fuel Canada's third ...      6  lohlle   \n",
       "Canadian government to extend COVID-19 emergenc...      1  lnptv8   \n",
       "Canada: Pfizer is 'extremely committed' to meet...      6  lkslm6   \n",
       "\n",
       "                                                                                                  url  \\\n",
       "title                                                                                                   \n",
       "Health Canada approves AstraZeneca COVID-19 vac...  https://www.canadaforums.ca/2021/02/health-can...   \n",
       "COVID-19 in Canada: 'Vaccination passports' a n...  https://www.canadaforums.ca/2021/02/covid-19-i...   \n",
       "Coronavirus variants could fuel Canada's third ...  https://www.canadaforums.ca/2021/02/coronaviru...   \n",
       "Canadian government to extend COVID-19 emergenc...  https://www.canadaforums.ca/2021/02/canadian-g...   \n",
       "Canada: Pfizer is 'extremely committed' to meet...  https://www.canadaforums.ca/2021/02/canada-pfi...   \n",
       "\n",
       "                                                    comms_num       created  \\\n",
       "title                                                                         \n",
       "Health Canada approves AstraZeneca COVID-19 vac...          0  1.614400e+09   \n",
       "COVID-19 in Canada: 'Vaccination passports' a n...          1  1.614316e+09   \n",
       "Coronavirus variants could fuel Canada's third ...          0  1.613887e+09   \n",
       "Canadian government to extend COVID-19 emergenc...          0  1.613796e+09   \n",
       "Canada: Pfizer is 'extremely committed' to meet...          0  1.613468e+09   \n",
       "\n",
       "                                                   body            timestamp  \n",
       "title                                                                         \n",
       "Health Canada approves AstraZeneca COVID-19 vac...  NaN  2021-02-27 06:33:45  \n",
       "COVID-19 in Canada: 'Vaccination passports' a n...  NaN  2021-02-26 07:11:07  \n",
       "Coronavirus variants could fuel Canada's third ...  NaN  2021-02-21 07:50:08  \n",
       "Canadian government to extend COVID-19 emergenc...  NaN  2021-02-20 06:35:13  \n",
       "Canada: Pfizer is 'extremely committed' to meet...  NaN  2021-02-16 11:36:28  "
      ]
     },
     "execution_count": 3,
     "metadata": {},
     "output_type": "execute_result"
    }
   ],
   "source": [
    "#import file\n",
    "reddit = pd.read_csv(\"E:/reddit_vm.csv\", index_col = \"title\", )\n",
    "reddit.head()"
   ]
  },
  {
   "cell_type": "code",
   "execution_count": 4,
   "id": "22fc68c9",
   "metadata": {},
   "outputs": [
    {
     "data": {
      "text/plain": [
       "pandas.core.frame.DataFrame"
      ]
     },
     "execution_count": 4,
     "metadata": {},
     "output_type": "execute_result"
    }
   ],
   "source": [
    "#data structure\n",
    "type(reddit)"
   ]
  },
  {
   "cell_type": "code",
   "execution_count": 5,
   "id": "01aaba51",
   "metadata": {},
   "outputs": [
    {
     "data": {
      "text/plain": [
       "score          int64\n",
       "id            object\n",
       "url           object\n",
       "comms_num      int64\n",
       "created      float64\n",
       "body          object\n",
       "timestamp     object\n",
       "dtype: object"
      ]
     },
     "execution_count": 5,
     "metadata": {},
     "output_type": "execute_result"
    }
   ],
   "source": [
    "#data structure\n",
    "reddit.dtypes"
   ]
  },
  {
   "cell_type": "code",
   "execution_count": 6,
   "id": "800c7a4e",
   "metadata": {},
   "outputs": [
    {
     "data": {
      "text/html": [
       "<div>\n",
       "<style scoped>\n",
       "    .dataframe tbody tr th:only-of-type {\n",
       "        vertical-align: middle;\n",
       "    }\n",
       "\n",
       "    .dataframe tbody tr th {\n",
       "        vertical-align: top;\n",
       "    }\n",
       "\n",
       "    .dataframe thead th {\n",
       "        text-align: right;\n",
       "    }\n",
       "</style>\n",
       "<table border=\"1\" class=\"dataframe\">\n",
       "  <thead>\n",
       "    <tr style=\"text-align: right;\">\n",
       "      <th></th>\n",
       "      <th>score</th>\n",
       "      <th>id</th>\n",
       "      <th>url</th>\n",
       "      <th>comms_num</th>\n",
       "      <th>created</th>\n",
       "      <th>body</th>\n",
       "      <th>timestamp</th>\n",
       "    </tr>\n",
       "    <tr>\n",
       "      <th>title</th>\n",
       "      <th></th>\n",
       "      <th></th>\n",
       "      <th></th>\n",
       "      <th></th>\n",
       "      <th></th>\n",
       "      <th></th>\n",
       "      <th></th>\n",
       "    </tr>\n",
       "  </thead>\n",
       "  <tbody>\n",
       "    <tr>\n",
       "      <th>I would rage if this was handed to me...</th>\n",
       "      <td>1181</td>\n",
       "      <td>21zc6n</td>\n",
       "      <td>http://m.imgur.com/a/bZDWg</td>\n",
       "      <td>595</td>\n",
       "      <td>1.396406e+09</td>\n",
       "      <td>NaN</td>\n",
       "      <td>2014-04-02 05:32:42</td>\n",
       "    </tr>\n",
       "    <tr>\n",
       "      <th>From /r/Rage</th>\n",
       "      <td>45</td>\n",
       "      <td>221h6d</td>\n",
       "      <td>http://imgur.com/a/sZf8z</td>\n",
       "      <td>13</td>\n",
       "      <td>1.396469e+09</td>\n",
       "      <td>NaN</td>\n",
       "      <td>2014-04-02 23:01:49</td>\n",
       "    </tr>\n",
       "    <tr>\n",
       "      <th>Vaccines exposed</th>\n",
       "      <td>39</td>\n",
       "      <td>kfctnr</td>\n",
       "      <td>https://i.redd.it/3ebjmlp8uk561.jpg</td>\n",
       "      <td>4</td>\n",
       "      <td>1.608261e+09</td>\n",
       "      <td>NaN</td>\n",
       "      <td>2020-12-18 05:11:12</td>\n",
       "    </tr>\n",
       "    <tr>\n",
       "      <th>Do not give a platform for anti-vaxxers to propagate.</th>\n",
       "      <td>36</td>\n",
       "      <td>apmakx</td>\n",
       "      <td>https://www.reddit.com/r/VaccineMyths/comments...</td>\n",
       "      <td>5</td>\n",
       "      <td>1.549926e+09</td>\n",
       "      <td>I am of the mind to report social media groups...</td>\n",
       "      <td>2019-02-12 01:04:08</td>\n",
       "    </tr>\n",
       "    <tr>\n",
       "      <th>Oh no! I got vaccinated!</th>\n",
       "      <td>30</td>\n",
       "      <td>9z5wxf</td>\n",
       "      <td>https://www.reddit.com/r/VaccineMyths/comments...</td>\n",
       "      <td>6</td>\n",
       "      <td>1.542825e+09</td>\n",
       "      <td>\\n\\n\\nAnd I'm completely fine, do some researc...</td>\n",
       "      <td>2018-11-21 20:35:02</td>\n",
       "    </tr>\n",
       "  </tbody>\n",
       "</table>\n",
       "</div>"
      ],
      "text/plain": [
       "                                                    score      id  \\\n",
       "title                                                               \n",
       "I would rage if this was handed to me...             1181  21zc6n   \n",
       "From /r/Rage                                           45  221h6d   \n",
       "Vaccines exposed                                       39  kfctnr   \n",
       "Do not give a platform for anti-vaxxers to prop...     36  apmakx   \n",
       "Oh no! I got vaccinated!                               30  9z5wxf   \n",
       "\n",
       "                                                                                                  url  \\\n",
       "title                                                                                                   \n",
       "I would rage if this was handed to me...                                   http://m.imgur.com/a/bZDWg   \n",
       "From /r/Rage                                                                 http://imgur.com/a/sZf8z   \n",
       "Vaccines exposed                                                  https://i.redd.it/3ebjmlp8uk561.jpg   \n",
       "Do not give a platform for anti-vaxxers to prop...  https://www.reddit.com/r/VaccineMyths/comments...   \n",
       "Oh no! I got vaccinated!                            https://www.reddit.com/r/VaccineMyths/comments...   \n",
       "\n",
       "                                                    comms_num       created  \\\n",
       "title                                                                         \n",
       "I would rage if this was handed to me...                  595  1.396406e+09   \n",
       "From /r/Rage                                               13  1.396469e+09   \n",
       "Vaccines exposed                                            4  1.608261e+09   \n",
       "Do not give a platform for anti-vaxxers to prop...          5  1.549926e+09   \n",
       "Oh no! I got vaccinated!                                    6  1.542825e+09   \n",
       "\n",
       "                                                                                                 body  \\\n",
       "title                                                                                                   \n",
       "I would rage if this was handed to me...                                                          NaN   \n",
       "From /r/Rage                                                                                      NaN   \n",
       "Vaccines exposed                                                                                  NaN   \n",
       "Do not give a platform for anti-vaxxers to prop...  I am of the mind to report social media groups...   \n",
       "Oh no! I got vaccinated!                            \\n\\n\\nAnd I'm completely fine, do some researc...   \n",
       "\n",
       "                                                              timestamp  \n",
       "title                                                                    \n",
       "I would rage if this was handed to me...            2014-04-02 05:32:42  \n",
       "From /r/Rage                                        2014-04-02 23:01:49  \n",
       "Vaccines exposed                                    2020-12-18 05:11:12  \n",
       "Do not give a platform for anti-vaxxers to prop...  2019-02-12 01:04:08  \n",
       "Oh no! I got vaccinated!                            2018-11-21 20:35:02  "
      ]
     },
     "execution_count": 6,
     "metadata": {},
     "output_type": "execute_result"
    }
   ],
   "source": [
    "#See what title has most scores\n",
    "reddit_most_score = reddit.sort_values(by = \"score\", ascending = False)\n",
    "reddit_most_score.head(5)"
   ]
  },
  {
   "cell_type": "code",
   "execution_count": 7,
   "id": "b27d224a",
   "metadata": {},
   "outputs": [
    {
     "data": {
      "text/html": [
       "<div>\n",
       "<style scoped>\n",
       "    .dataframe tbody tr th:only-of-type {\n",
       "        vertical-align: middle;\n",
       "    }\n",
       "\n",
       "    .dataframe tbody tr th {\n",
       "        vertical-align: top;\n",
       "    }\n",
       "\n",
       "    .dataframe thead th {\n",
       "        text-align: right;\n",
       "    }\n",
       "</style>\n",
       "<table border=\"1\" class=\"dataframe\">\n",
       "  <thead>\n",
       "    <tr style=\"text-align: right;\">\n",
       "      <th></th>\n",
       "      <th>score</th>\n",
       "      <th>id</th>\n",
       "      <th>url</th>\n",
       "      <th>comms_num</th>\n",
       "      <th>created</th>\n",
       "      <th>body</th>\n",
       "      <th>timestamp</th>\n",
       "    </tr>\n",
       "    <tr>\n",
       "      <th>title</th>\n",
       "      <th></th>\n",
       "      <th></th>\n",
       "      <th></th>\n",
       "      <th></th>\n",
       "      <th></th>\n",
       "      <th></th>\n",
       "      <th></th>\n",
       "    </tr>\n",
       "  </thead>\n",
       "  <tbody>\n",
       "    <tr>\n",
       "      <th>I would rage if this was handed to me...</th>\n",
       "      <td>1181</td>\n",
       "      <td>21zc6n</td>\n",
       "      <td>http://m.imgur.com/a/bZDWg</td>\n",
       "      <td>595</td>\n",
       "      <td>1.396406e+09</td>\n",
       "      <td>NaN</td>\n",
       "      <td>2014-04-02 05:32:42</td>\n",
       "    </tr>\n",
       "    <tr>\n",
       "      <th>Myth- \"There is no thimerosal (mercury) in vaccines.\"</th>\n",
       "      <td>0</td>\n",
       "      <td>b3twz4</td>\n",
       "      <td>https://www.reddit.com/r/VaccineMyths/comments...</td>\n",
       "      <td>166</td>\n",
       "      <td>1.553192e+09</td>\n",
       "      <td>and yet...\\nhttps://www.cdc.gov/flu/protect/va...</td>\n",
       "      <td>2019-03-21 20:13:58</td>\n",
       "    </tr>\n",
       "    <tr>\n",
       "      <th>Dear Anti Vaccination movement,</th>\n",
       "      <td>21</td>\n",
       "      <td>at83m8</td>\n",
       "      <td>https://www.reddit.com/r/VaccineMyths/comments...</td>\n",
       "      <td>74</td>\n",
       "      <td>1.550781e+09</td>\n",
       "      <td>First of all, to not give your child vaccinati...</td>\n",
       "      <td>2019-02-21 22:36:43</td>\n",
       "    </tr>\n",
       "    <tr>\n",
       "      <th>Long-winded, ill-researched diatribe over at r/conspiracy. Author admits that he's unable to think for himself.</th>\n",
       "      <td>3</td>\n",
       "      <td>23sqo0</td>\n",
       "      <td>http://www.np.reddit.com/r/conspiracy/comments...</td>\n",
       "      <td>55</td>\n",
       "      <td>1.398285e+09</td>\n",
       "      <td>NaN</td>\n",
       "      <td>2014-04-23 23:31:03</td>\n",
       "    </tr>\n",
       "    <tr>\n",
       "      <th>How does an unvaccinated child present a risk to a vaccinated child? I doubt I'll get a reasoned response. Edit: Herd Immunity has nothing to do with my question.</th>\n",
       "      <td>0</td>\n",
       "      <td>8migoi</td>\n",
       "      <td>https://np.reddit.com/r/politics/comments/8mh6...</td>\n",
       "      <td>49</td>\n",
       "      <td>1.527435e+09</td>\n",
       "      <td>NaN</td>\n",
       "      <td>2018-05-27 18:29:44</td>\n",
       "    </tr>\n",
       "  </tbody>\n",
       "</table>\n",
       "</div>"
      ],
      "text/plain": [
       "                                                    score      id  \\\n",
       "title                                                               \n",
       "I would rage if this was handed to me...             1181  21zc6n   \n",
       "Myth- \"There is no thimerosal (mercury) in vacc...      0  b3twz4   \n",
       "Dear Anti Vaccination movement,                        21  at83m8   \n",
       "Long-winded, ill-researched diatribe over at r/...      3  23sqo0   \n",
       "How does an unvaccinated child present a risk t...      0  8migoi   \n",
       "\n",
       "                                                                                                  url  \\\n",
       "title                                                                                                   \n",
       "I would rage if this was handed to me...                                   http://m.imgur.com/a/bZDWg   \n",
       "Myth- \"There is no thimerosal (mercury) in vacc...  https://www.reddit.com/r/VaccineMyths/comments...   \n",
       "Dear Anti Vaccination movement,                     https://www.reddit.com/r/VaccineMyths/comments...   \n",
       "Long-winded, ill-researched diatribe over at r/...  http://www.np.reddit.com/r/conspiracy/comments...   \n",
       "How does an unvaccinated child present a risk t...  https://np.reddit.com/r/politics/comments/8mh6...   \n",
       "\n",
       "                                                    comms_num       created  \\\n",
       "title                                                                         \n",
       "I would rage if this was handed to me...                  595  1.396406e+09   \n",
       "Myth- \"There is no thimerosal (mercury) in vacc...        166  1.553192e+09   \n",
       "Dear Anti Vaccination movement,                            74  1.550781e+09   \n",
       "Long-winded, ill-researched diatribe over at r/...         55  1.398285e+09   \n",
       "How does an unvaccinated child present a risk t...         49  1.527435e+09   \n",
       "\n",
       "                                                                                                 body  \\\n",
       "title                                                                                                   \n",
       "I would rage if this was handed to me...                                                          NaN   \n",
       "Myth- \"There is no thimerosal (mercury) in vacc...  and yet...\\nhttps://www.cdc.gov/flu/protect/va...   \n",
       "Dear Anti Vaccination movement,                     First of all, to not give your child vaccinati...   \n",
       "Long-winded, ill-researched diatribe over at r/...                                                NaN   \n",
       "How does an unvaccinated child present a risk t...                                                NaN   \n",
       "\n",
       "                                                              timestamp  \n",
       "title                                                                    \n",
       "I would rage if this was handed to me...            2014-04-02 05:32:42  \n",
       "Myth- \"There is no thimerosal (mercury) in vacc...  2019-03-21 20:13:58  \n",
       "Dear Anti Vaccination movement,                     2019-02-21 22:36:43  \n",
       "Long-winded, ill-researched diatribe over at r/...  2014-04-23 23:31:03  \n",
       "How does an unvaccinated child present a risk t...  2018-05-27 18:29:44  "
      ]
     },
     "execution_count": 7,
     "metadata": {},
     "output_type": "execute_result"
    }
   ],
   "source": [
    "#See what title has most comments\n",
    "reddit_most_comments = reddit.sort_values(by = \"comms_num\", ascending = False)\n",
    "reddit_most_comments.head(5)"
   ]
  },
  {
   "cell_type": "code",
   "execution_count": 8,
   "id": "794990f5",
   "metadata": {},
   "outputs": [
    {
     "data": {
      "text/html": [
       "<div>\n",
       "<style scoped>\n",
       "    .dataframe tbody tr th:only-of-type {\n",
       "        vertical-align: middle;\n",
       "    }\n",
       "\n",
       "    .dataframe tbody tr th {\n",
       "        vertical-align: top;\n",
       "    }\n",
       "\n",
       "    .dataframe thead th {\n",
       "        text-align: right;\n",
       "    }\n",
       "</style>\n",
       "<table border=\"1\" class=\"dataframe\">\n",
       "  <thead>\n",
       "    <tr style=\"text-align: right;\">\n",
       "      <th></th>\n",
       "      <th>score</th>\n",
       "      <th>id</th>\n",
       "      <th>url</th>\n",
       "      <th>comms_num</th>\n",
       "      <th>created</th>\n",
       "      <th>body</th>\n",
       "      <th>timestamp</th>\n",
       "    </tr>\n",
       "    <tr>\n",
       "      <th>title</th>\n",
       "      <th></th>\n",
       "      <th></th>\n",
       "      <th></th>\n",
       "      <th></th>\n",
       "      <th></th>\n",
       "      <th></th>\n",
       "      <th></th>\n",
       "    </tr>\n",
       "  </thead>\n",
       "  <tbody>\n",
       "  </tbody>\n",
       "</table>\n",
       "</div>"
      ],
      "text/plain": [
       "Empty DataFrame\n",
       "Columns: [score, id, url, comms_num, created, body, timestamp]\n",
       "Index: []"
      ]
     },
     "execution_count": 8,
     "metadata": {},
     "output_type": "execute_result"
    }
   ],
   "source": [
    "duplicate_id = reddit[reddit.duplicated('id')]\n",
    "duplicate_id.head()\n",
    "# => This dataframe has no duplicate ID values"
   ]
  },
  {
   "cell_type": "code",
   "execution_count": 9,
   "id": "d587c6c2",
   "metadata": {
    "scrolled": true
   },
   "outputs": [
    {
     "data": {
      "text/plain": [
       "title\n",
       "Health Canada approves AstraZeneca COVID-19 vaccine                               False\n",
       "COVID-19 in Canada: 'Vaccination passports' a near certainty says bio-ethicist    False\n",
       "Coronavirus variants could fuel Canada's third wave                               False\n",
       "Canadian government to extend COVID-19 emergency benefits                         False\n",
       "Canada: Pfizer is 'extremely committed' to meeting vaccine delivery targets       False\n",
       "                                                                                  ...  \n",
       "Comment                                                                           False\n",
       "Comment                                                                           False\n",
       "Comment                                                                           False\n",
       "Comment                                                                           False\n",
       "Comment                                                                           False\n",
       "Length: 1597, dtype: bool"
      ]
     },
     "execution_count": 9,
     "metadata": {},
     "output_type": "execute_result"
    }
   ],
   "source": [
    "reddit.duplicated(keep = False)"
   ]
  },
  {
   "cell_type": "code",
   "execution_count": 15,
   "id": "c600312f",
   "metadata": {},
   "outputs": [
    {
     "data": {
      "text/plain": [
       "score           0\n",
       "id              0\n",
       "url          1130\n",
       "comms_num       0\n",
       "created         0\n",
       "body          374\n",
       "timestamp       0\n",
       "dtype: int64"
      ]
     },
     "execution_count": 15,
     "metadata": {},
     "output_type": "execute_result"
    }
   ],
   "source": [
    "reddit.isnull().sum()"
   ]
  },
  {
   "cell_type": "code",
   "execution_count": 16,
   "id": "f9fbb305",
   "metadata": {},
   "outputs": [
    {
     "data": {
      "text/plain": [
       "score        0\n",
       "id           0\n",
       "url          0\n",
       "comms_num    0\n",
       "created      0\n",
       "body         0\n",
       "timestamp    0\n",
       "dtype: int64"
      ]
     },
     "execution_count": 16,
     "metadata": {},
     "output_type": "execute_result"
    }
   ],
   "source": [
    "reddit.dropna(subset=['url', 'body'], inplace=True, how='any')\n",
    "reddit.isnull().sum()"
   ]
  },
  {
   "cell_type": "code",
   "execution_count": null,
   "id": "c1a40f2d",
   "metadata": {},
   "outputs": [],
   "source": [
    "#That is the end of analysis"
   ]
  }
 ],
 "metadata": {
  "kernelspec": {
   "display_name": "Python 3 (ipykernel)",
   "language": "python",
   "name": "python3"
  },
  "language_info": {
   "codemirror_mode": {
    "name": "ipython",
    "version": 3
   },
   "file_extension": ".py",
   "mimetype": "text/x-python",
   "name": "python",
   "nbconvert_exporter": "python",
   "pygments_lexer": "ipython3",
   "version": "3.9.7"
  }
 },
 "nbformat": 4,
 "nbformat_minor": 5
}
